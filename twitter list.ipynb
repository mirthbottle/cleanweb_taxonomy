{
 "metadata": {
  "name": "",
  "signature": "sha256:d102ee7e2e578032e3ef564820708d7816d92d3ee59fde72f2c75ed7d87ae31a"
 },
 "nbformat": 3,
 "nbformat_minor": 0,
 "worksheets": [
  {
   "cells": [
    {
     "cell_type": "code",
     "collapsed": false,
     "input": [
      "import pandas as pd"
     ],
     "language": "python",
     "metadata": {},
     "outputs": [],
     "prompt_number": 33
    },
    {
     "cell_type": "code",
     "collapsed": false,
     "input": [
      "import twitter"
     ],
     "language": "python",
     "metadata": {},
     "outputs": [],
     "prompt_number": 10
    },
    {
     "cell_type": "code",
     "collapsed": false,
     "input": [
      "import cleanweb as cw"
     ],
     "language": "python",
     "metadata": {},
     "outputs": [],
     "prompt_number": 48
    },
    {
     "cell_type": "code",
     "collapsed": false,
     "input": [
      "t = cw.auth_twitter()"
     ],
     "language": "python",
     "metadata": {},
     "outputs": [],
     "prompt_number": 49
    },
    {
     "cell_type": "code",
     "collapsed": false,
     "input": [
      "users = cw.get_cleanweb_members(t)"
     ],
     "language": "python",
     "metadata": {},
     "outputs": [],
     "prompt_number": 53
    },
    {
     "cell_type": "code",
     "collapsed": false,
     "input": [
      "token = twitter.oauth2_dance('FSIkjJmsDyZbL8SSzkeyIe1EY',\n",
      "                             'frk8TSxEtNuHZc1giR7PIb6PvtxqYD72GOSkRF8PFgTnQC8ybX')"
     ],
     "language": "python",
     "metadata": {},
     "outputs": [],
     "prompt_number": 14
    },
    {
     "cell_type": "code",
     "collapsed": false,
     "input": [
      "t = twitter.Twitter(auth=twitter.OAuth2(bearer_token=token))"
     ],
     "language": "python",
     "metadata": {},
     "outputs": [],
     "prompt_number": 17
    },
    {
     "cell_type": "code",
     "collapsed": false,
     "input": [
      "#[u'next_cursor_str',\n",
      "# u'previous_cursor',\n",
      "# u'users',\n",
      "# u'next_cursor',\n",
      "# u'previous_cursor_str']\n",
      "response = t.lists.members(owner_screen_name=\"CleanWebBos\",\n",
      "                           owner_id=531535685, slug=\"cleanweb-companies\",\n",
      "                           count=300, include_entities=False, skip_status=True)"
     ],
     "language": "python",
     "metadata": {},
     "outputs": [],
     "prompt_number": 40
    },
    {
     "cell_type": "code",
     "collapsed": false,
     "input": [
      "len(users)"
     ],
     "language": "python",
     "metadata": {},
     "outputs": [
      {
       "metadata": {},
       "output_type": "pyout",
       "prompt_number": 55,
       "text": [
        "236"
       ]
      }
     ],
     "prompt_number": 55
    },
    {
     "cell_type": "code",
     "collapsed": false,
     "input": [
      "users[0:4]"
     ],
     "language": "python",
     "metadata": {},
     "outputs": [
      {
       "html": [
        "<div style=\"max-height:1000px;max-width:1500px;overflow:auto;\">\n",
        "<table border=\"1\" class=\"dataframe\">\n",
        "  <thead>\n",
        "    <tr style=\"text-align: right;\">\n",
        "      <th></th>\n",
        "      <th>name</th>\n",
        "      <th>description</th>\n",
        "      <th>url</th>\n",
        "      <th>screen_name</th>\n",
        "    </tr>\n",
        "  </thead>\n",
        "  <tbody>\n",
        "    <tr>\n",
        "      <th>0</th>\n",
        "      <td>  Barnacle</td>\n",
        "      <td> 10k gals of water leak in an ave home per year...</td>\n",
        "      <td> http://t.co/su8S5yNEK6</td>\n",
        "      <td>  Barnacle_Co</td>\n",
        "    </tr>\n",
        "    <tr>\n",
        "      <th>1</th>\n",
        "      <td> CloudGrid</td>\n",
        "      <td>                 Energy Sub-metering and Analytics</td>\n",
        "      <td> http://t.co/8VoEJdoj29</td>\n",
        "      <td> CloudGridOrg</td>\n",
        "    </tr>\n",
        "    <tr>\n",
        "      <th>2</th>\n",
        "      <td>  Granular</td>\n",
        "      <td> The world\u2019s most efficient farms run on Granul...</td>\n",
        "      <td> http://t.co/h0CAUQYsh0</td>\n",
        "      <td>   GranularAg</td>\n",
        "    </tr>\n",
        "    <tr>\n",
        "      <th>3</th>\n",
        "      <td>   Thurmia</td>\n",
        "      <td>                                Internet of Energy</td>\n",
        "      <td>                   None</td>\n",
        "      <td>      thurmia</td>\n",
        "    </tr>\n",
        "  </tbody>\n",
        "</table>\n",
        "</div>"
       ],
       "metadata": {},
       "output_type": "pyout",
       "prompt_number": 54,
       "text": [
        "        name                                        description  \\\n",
        "0   Barnacle  10k gals of water leak in an ave home per year...   \n",
        "1  CloudGrid                  Energy Sub-metering and Analytics   \n",
        "2   Granular  The world\u2019s most efficient farms run on Granul...   \n",
        "3    Thurmia                                 Internet of Energy   \n",
        "\n",
        "                      url   screen_name  \n",
        "0  http://t.co/su8S5yNEK6   Barnacle_Co  \n",
        "1  http://t.co/8VoEJdoj29  CloudGridOrg  \n",
        "2  http://t.co/h0CAUQYsh0    GranularAg  \n",
        "3                    None       thurmia  "
       ]
      }
     ],
     "prompt_number": 54
    },
    {
     "cell_type": "code",
     "collapsed": false,
     "input": [
      "users_final.to_excel(\"tlist.xlsx\")"
     ],
     "language": "python",
     "metadata": {},
     "outputs": [],
     "prompt_number": 39
    },
    {
     "cell_type": "code",
     "collapsed": false,
     "input": [
      "users_final.to_json(\"tlist.json\")"
     ],
     "language": "python",
     "metadata": {},
     "outputs": [],
     "prompt_number": 46
    },
    {
     "cell_type": "markdown",
     "metadata": {},
     "source": [
      "###next: \n",
      "- put functions in python package\n",
      "- compare with existing list (remove duplicates) and output to excel for categorizing\n",
      "- get info from crunch base"
     ]
    },
    {
     "cell_type": "code",
     "collapsed": false,
     "input": [],
     "language": "python",
     "metadata": {},
     "outputs": []
    }
   ],
   "metadata": {}
  }
 ]
}