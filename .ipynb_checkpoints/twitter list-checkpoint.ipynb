{
 "metadata": {
  "name": "",
  "signature": "sha256:e12dfbbbd5fdb0f002236679ce0769f5c41760ce353c274ee4184a8097a4cfc4"
 },
 "nbformat": 3,
 "nbformat_minor": 0,
 "worksheets": [
  {
   "cells": [
    {
     "cell_type": "code",
     "collapsed": false,
     "input": [
      "import json\n",
      "import pandas as pd"
     ],
     "language": "python",
     "metadata": {},
     "outputs": [],
     "prompt_number": 33
    },
    {
     "cell_type": "code",
     "collapsed": false,
     "input": [
      "import twitter"
     ],
     "language": "python",
     "metadata": {},
     "outputs": [],
     "prompt_number": 10
    },
    {
     "cell_type": "code",
     "collapsed": false,
     "input": [
      "token = twitter.oauth2_dance('FSIkjJmsDyZbL8SSzkeyIe1EY',\n",
      "                             'frk8TSxEtNuHZc1giR7PIb6PvtxqYD72GOSkRF8PFgTnQC8ybX')"
     ],
     "language": "python",
     "metadata": {},
     "outputs": [],
     "prompt_number": 14
    },
    {
     "cell_type": "code",
     "collapsed": false,
     "input": [
      "t = twitter.Twitter(auth=twitter.OAuth2(bearer_token=token))"
     ],
     "language": "python",
     "metadata": {},
     "outputs": [],
     "prompt_number": 17
    },
    {
     "cell_type": "code",
     "collapsed": false,
     "input": [
      "#[u'next_cursor_str',\n",
      "# u'previous_cursor',\n",
      "# u'users',\n",
      "# u'next_cursor',\n",
      "# u'previous_cursor_str']\n",
      "response = t.lists.members(owner_screen_name=\"CleanWebBos\",\n",
      "                           owner_id=531535685, slug=\"cleanweb-companies\",\n",
      "                           count=300, include_entities=False, skip_status=True)"
     ],
     "language": "python",
     "metadata": {},
     "outputs": [],
     "prompt_number": 40
    },
    {
     "cell_type": "code",
     "collapsed": false,
     "input": [
      "# next cursors\n",
      "# pg2: 4611686019897526000, pg3: 4611686019527000000, pg4: 4611686019041024000\n",
      "# pg5: 4611686018896568000, pg6: 4611686018821593000, pg7: 4611686018719975000\n",
      "# pg8: 4611686018625973000, pg9: 4611686018563385000, pg10:4611686018516107000\n",
      "# pg11:4611686018474835000, pg12:4611686018447059000, pg13:4611686018442250000\n",
      "len(response['users'])"
     ],
     "language": "python",
     "metadata": {},
     "outputs": [
      {
       "metadata": {},
       "output_type": "pyout",
       "prompt_number": 41,
       "text": [
        "237"
       ]
      }
     ],
     "prompt_number": 41
    },
    {
     "cell_type": "code",
     "collapsed": false,
     "input": [
      "users = pd.DataFrame(response['users'])"
     ],
     "language": "python",
     "metadata": {},
     "outputs": [],
     "prompt_number": 42
    },
    {
     "cell_type": "code",
     "collapsed": false,
     "input": [
      "users = users.drop_duplicates(subset='name')\n",
      "len(users)"
     ],
     "language": "python",
     "metadata": {},
     "outputs": [
      {
       "metadata": {},
       "output_type": "pyout",
       "prompt_number": 43,
       "text": [
        "236"
       ]
      }
     ],
     "prompt_number": 43
    },
    {
     "cell_type": "code",
     "collapsed": false,
     "input": [
      "# i want the name, description, url, screen_name, (location)\n",
      "users_final = users[['name', 'description', 'url', 'screen_name']]"
     ],
     "language": "python",
     "metadata": {},
     "outputs": [],
     "prompt_number": 36
    },
    {
     "cell_type": "code",
     "collapsed": false,
     "input": [
      "users_final[0:4]"
     ],
     "language": "python",
     "metadata": {},
     "outputs": [
      {
       "html": [
        "<div style=\"max-height:1000px;max-width:1500px;overflow:auto;\">\n",
        "<table border=\"1\" class=\"dataframe\">\n",
        "  <thead>\n",
        "    <tr style=\"text-align: right;\">\n",
        "      <th></th>\n",
        "      <th>name</th>\n",
        "      <th>description</th>\n",
        "      <th>url</th>\n",
        "      <th>screen_name</th>\n",
        "    </tr>\n",
        "  </thead>\n",
        "  <tbody>\n",
        "    <tr>\n",
        "      <th>0</th>\n",
        "      <td>  Barnacle</td>\n",
        "      <td> 10k gals of water leak in an ave home per year...</td>\n",
        "      <td> http://t.co/su8S5yNEK6</td>\n",
        "      <td>  Barnacle_Co</td>\n",
        "    </tr>\n",
        "    <tr>\n",
        "      <th>1</th>\n",
        "      <td> CloudGrid</td>\n",
        "      <td>                 Energy Sub-metering and Analytics</td>\n",
        "      <td> http://t.co/8VoEJdoj29</td>\n",
        "      <td> CloudGridOrg</td>\n",
        "    </tr>\n",
        "    <tr>\n",
        "      <th>2</th>\n",
        "      <td>  Granular</td>\n",
        "      <td> The world\u2019s most efficient farms run on Granul...</td>\n",
        "      <td> http://t.co/h0CAUQYsh0</td>\n",
        "      <td>   GranularAg</td>\n",
        "    </tr>\n",
        "    <tr>\n",
        "      <th>3</th>\n",
        "      <td>   Thurmia</td>\n",
        "      <td>                                Internet of Energy</td>\n",
        "      <td>                   None</td>\n",
        "      <td>      thurmia</td>\n",
        "    </tr>\n",
        "  </tbody>\n",
        "</table>\n",
        "</div>"
       ],
       "metadata": {},
       "output_type": "pyout",
       "prompt_number": 45,
       "text": [
        "        name                                        description  \\\n",
        "0   Barnacle  10k gals of water leak in an ave home per year...   \n",
        "1  CloudGrid                  Energy Sub-metering and Analytics   \n",
        "2   Granular  The world\u2019s most efficient farms run on Granul...   \n",
        "3    Thurmia                                 Internet of Energy   \n",
        "\n",
        "                      url   screen_name  \n",
        "0  http://t.co/su8S5yNEK6   Barnacle_Co  \n",
        "1  http://t.co/8VoEJdoj29  CloudGridOrg  \n",
        "2  http://t.co/h0CAUQYsh0    GranularAg  \n",
        "3                    None       thurmia  "
       ]
      }
     ],
     "prompt_number": 45
    },
    {
     "cell_type": "code",
     "collapsed": false,
     "input": [
      "users_final.to_excel(\"tlist.xlsx\")"
     ],
     "language": "python",
     "metadata": {},
     "outputs": [],
     "prompt_number": 39
    },
    {
     "cell_type": "code",
     "collapsed": false,
     "input": [
      "users_final.to_json(\"tlist.json\")"
     ],
     "language": "python",
     "metadata": {},
     "outputs": [],
     "prompt_number": 46
    },
    {
     "cell_type": "code",
     "collapsed": false,
     "input": [],
     "language": "python",
     "metadata": {},
     "outputs": []
    }
   ],
   "metadata": {}
  }
 ]
}